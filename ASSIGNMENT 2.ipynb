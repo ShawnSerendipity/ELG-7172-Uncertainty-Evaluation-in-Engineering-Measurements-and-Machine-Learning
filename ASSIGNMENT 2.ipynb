{
  "nbformat": 4,
  "nbformat_minor": 0,
  "metadata": {
    "colab": {
      "name": "ELG_7172B_XUZHANG_HW2.ipynb",
      "provenance": [],
      "collapsed_sections": []
    },
    "kernelspec": {
      "name": "python3",
      "display_name": "Python 3"
    }
  },
  "cells": [
    {
      "cell_type": "markdown",
      "metadata": {
        "id": "cFn2Y4f8rtGQ",
        "colab_type": "text"
      },
      "source": [
        "## Assignment 2 Solutions"
      ]
    },
    {
      "cell_type": "code",
      "metadata": {
        "id": "BRuNjwddrxkY",
        "colab_type": "code",
        "outputId": "64f0ef8c-5b8e-4abb-9b61-67e3dc5ca6d7",
        "colab": {
          "base_uri": "https://localhost:8080/",
          "height": 224
        }
      },
      "source": [
        "#@title Import { display-mode: \"form\" }\n",
        "\n",
        "!pip install pomegranate\n",
        "\n",
        "import io\n",
        "import os\n",
        "import sys\n",
        "import glob\n",
        "import warnings\n",
        "\n",
        "from google.colab import files\n",
        "\n",
        "import numpy as np\n",
        "import pandas as pd\n",
        "import matplotlib.pyplot as plt\n",
        "from matplotlib.patches import Ellipse\n",
        "import seaborn as sns; sns.set()\n",
        "\n",
        "from sklearn.cluster import KMeans\n",
        "from sklearn.mixture import GaussianMixture\n",
        "from pomegranate import *\n",
        "\n",
        "%matplotlib inline"
      ],
      "execution_count": 2,
      "outputs": [
        {
          "output_type": "stream",
          "text": [
            "Collecting pomegranate\n",
            "\u001b[?25l  Downloading https://files.pythonhosted.org/packages/6e/da/14ea6a206f4def3adf457059cc5e2a477e53d2e939dbb02da04251a13b60/pomegranate-0.11.2-cp36-cp36m-manylinux1_x86_64.whl (5.3MB)\n",
            "\u001b[K     |████████████████████████████████| 5.3MB 7.7MB/s \n",
            "\u001b[?25hRequirement already satisfied: numpy>=1.8.0 in /usr/local/lib/python3.6/dist-packages (from pomegranate) (1.16.5)\n",
            "Requirement already satisfied: joblib>=0.9.0b4 in /usr/local/lib/python3.6/dist-packages (from pomegranate) (0.14.0)\n",
            "Requirement already satisfied: pyyaml in /usr/local/lib/python3.6/dist-packages (from pomegranate) (3.13)\n",
            "Requirement already satisfied: networkx>=2.0 in /usr/local/lib/python3.6/dist-packages (from pomegranate) (2.3)\n",
            "Requirement already satisfied: scipy>=0.17.0 in /usr/local/lib/python3.6/dist-packages (from pomegranate) (1.3.1)\n",
            "Requirement already satisfied: decorator>=4.3.0 in /usr/local/lib/python3.6/dist-packages (from networkx>=2.0->pomegranate) (4.4.0)\n",
            "Installing collected packages: pomegranate\n",
            "Successfully installed pomegranate-0.11.2\n"
          ],
          "name": "stdout"
        }
      ]
    },
    {
      "cell_type": "markdown",
      "metadata": {
        "id": "sYCCJq57Rkj4",
        "colab_type": "text"
      },
      "source": [
        "### Question 2 Hidden Markov model"
      ]
    },
    {
      "cell_type": "markdown",
      "metadata": {
        "id": "8iek2PzzRppI",
        "colab_type": "text"
      },
      "source": [
        "Read https://towardsdatascience.com/hidden-markov-models-for-time-series-classification-basic-overview-a59b74e5e65b and implement the following: generate the input sequences in Python that correspond to the data sequence presented on this page. Implement HMM that correspond to the model described on that Web site – you can train it yourself based on examples below or you can use the model from the website:<br>\n",
        "\n",
        "<img src=\"https://miro.medium.com/max/2620/1*iw6EqReywjLEH3cdbg1l7w.png\" width=\"360\" align=\"center\"/>\n",
        "\n",
        "Analyze the likelihood of a given path by doing computations in Python. What does this likelihood result mean?<br>\n",
        "To learn more about this problem of reading sign language read https://machinelearnings.co/sign-language-recognition-with-hmms-504b86a2acde.<br>\n",
        "For the implementation of HMMs take a look at: Analyze the first part of the example https://medium.com/@kangeugine/hidden-markov-model-7681c22f5b9<br> \n",
        "as well as https://pomegranate.readthedocs.io/en/latest/HiddenMarkovModel.html <br>and https://github.com/jmschrei/pomegranate/tree/master/tutorials. "
      ]
    },
    {
      "cell_type": "markdown",
      "metadata": {
        "id": "JAAyGqNDWM7i",
        "colab_type": "text"
      },
      "source": [
        "**Solution:** <br>"
      ]
    },
    {
      "cell_type": "code",
      "metadata": {
        "id": "ZCuuLniDSI23",
        "colab_type": "code",
        "colab": {
          "base_uri": "https://localhost:8080/",
          "height": 1000
        },
        "outputId": "a8518c54-e480-4dc4-e049-9cdcfb120918"
      },
      "source": [
        "# Input sequences\n",
        "example1 = np.array([4,4,4,5,5,5,6,6,6,1,1,1,2,3,3])\n",
        "example2 = np.array([4,4,2,4,4,1,-1,1,1,3,3])\n",
        "example3 = np.array([3,4,3,4,3,4,1,2,2,2,2,2])\n",
        "\n",
        "# Initialize the states\n",
        "s1 = State(NormalDistribution(5, 2), name=\"s1\")\n",
        "s2 = State(NormalDistribution(1, 1), name=\"s2\")\n",
        "s3 = State(NormalDistribution(3, 3), name=\"s3\")\n",
        "\n",
        "# Buil the model\n",
        "model = HiddenMarkovModel()\n",
        "model.add_states([s1, s2, s3])\n",
        "\n",
        "# Define the transition matrix\n",
        "model.add_transition(model.start, s1, 1.0)\n",
        "model.add_transition(s1, s1, 0.85)\n",
        "model.add_transition(s1, s2, 0.15)\n",
        "model.add_transition(s2, s2, 0.7)\n",
        "model.add_transition(s2, s3, 0.3)\n",
        "model.add_transition(s3, s3, 0.625)\n",
        "model.add_transition(s3, model.end, 0.375)\n",
        "model.bake()\n",
        "\n",
        "# Train the model\n",
        "model.fit([example1, example2, example3], max_iterations=5)"
      ],
      "execution_count": 4,
      "outputs": [
        {
          "output_type": "execute_result",
          "data": {
            "text/plain": [
              "{\n",
              "    \"class\" : \"HiddenMarkovModel\",\n",
              "    \"name\" : \"None\",\n",
              "    \"start\" : {\n",
              "        \"class\" : \"State\",\n",
              "        \"distribution\" : null,\n",
              "        \"name\" : \"None-start\",\n",
              "        \"weight\" : 1.0\n",
              "    },\n",
              "    \"end\" : {\n",
              "        \"class\" : \"State\",\n",
              "        \"distribution\" : null,\n",
              "        \"name\" : \"None-end\",\n",
              "        \"weight\" : 1.0\n",
              "    },\n",
              "    \"states\" : [\n",
              "        {\n",
              "            \"class\" : \"State\",\n",
              "            \"distribution\" : {\n",
              "                \"class\" : \"Distribution\",\n",
              "                \"name\" : \"NormalDistribution\",\n",
              "                \"parameters\" : [\n",
              "                    4.197035765812473,\n",
              "                    1.0336794016990756\n",
              "                ],\n",
              "                \"frozen\" : false\n",
              "            },\n",
              "            \"name\" : \"s1\",\n",
              "            \"weight\" : 1.0\n",
              "        },\n",
              "        {\n",
              "            \"class\" : \"State\",\n",
              "            \"distribution\" : {\n",
              "                \"class\" : \"Distribution\",\n",
              "                \"name\" : \"NormalDistribution\",\n",
              "                \"parameters\" : [\n",
              "                    0.8517703567033743,\n",
              "                    0.7290881458861858\n",
              "                ],\n",
              "                \"frozen\" : false\n",
              "            },\n",
              "            \"name\" : \"s2\",\n",
              "            \"weight\" : 1.0\n",
              "        },\n",
              "        {\n",
              "            \"class\" : \"State\",\n",
              "            \"distribution\" : {\n",
              "                \"class\" : \"Distribution\",\n",
              "                \"name\" : \"NormalDistribution\",\n",
              "                \"parameters\" : [\n",
              "                    2.4195414051071613,\n",
              "                    0.5040480656032796\n",
              "                ],\n",
              "                \"frozen\" : false\n",
              "            },\n",
              "            \"name\" : \"s3\",\n",
              "            \"weight\" : 1.0\n",
              "        },\n",
              "        {\n",
              "            \"class\" : \"State\",\n",
              "            \"distribution\" : null,\n",
              "            \"name\" : \"None-start\",\n",
              "            \"weight\" : 1.0\n",
              "        },\n",
              "        {\n",
              "            \"class\" : \"State\",\n",
              "            \"distribution\" : null,\n",
              "            \"name\" : \"None-end\",\n",
              "            \"weight\" : 1.0\n",
              "        }\n",
              "    ],\n",
              "    \"end_index\" : 4,\n",
              "    \"start_index\" : 3,\n",
              "    \"silent_index\" : 3,\n",
              "    \"edges\" : [\n",
              "        [\n",
              "            3,\n",
              "            0,\n",
              "            1.0,\n",
              "            1.0,\n",
              "            null\n",
              "        ],\n",
              "        [\n",
              "            0,\n",
              "            0,\n",
              "            0.8501369788467081,\n",
              "            0.85,\n",
              "            null\n",
              "        ],\n",
              "        [\n",
              "            0,\n",
              "            1,\n",
              "            0.14986302115329195,\n",
              "            0.15,\n",
              "            null\n",
              "        ],\n",
              "        [\n",
              "            1,\n",
              "            1,\n",
              "            0.6522492358990493,\n",
              "            0.7,\n",
              "            null\n",
              "        ],\n",
              "        [\n",
              "            1,\n",
              "            2,\n",
              "            0.3477507641009506,\n",
              "            0.3,\n",
              "            null\n",
              "        ],\n",
              "        [\n",
              "            2,\n",
              "            2,\n",
              "            0.6793107758870174,\n",
              "            0.625,\n",
              "            null\n",
              "        ],\n",
              "        [\n",
              "            2,\n",
              "            4,\n",
              "            0.3206892241129827,\n",
              "            0.375,\n",
              "            null\n",
              "        ]\n",
              "    ],\n",
              "    \"distribution ties\" : []\n",
              "}"
            ]
          },
          "metadata": {
            "tags": []
          },
          "execution_count": 4
        }
      ]
    },
    {
      "cell_type": "code",
      "metadata": {
        "id": "TbbWodN-PC4O",
        "colab_type": "code",
        "colab": {
          "base_uri": "https://localhost:8080/",
          "height": 34
        },
        "outputId": "7614d4a5-eb39-4943-d303-56699cff3c7a"
      },
      "source": [
        "# Compute the log likelihood of example 1\n",
        "seq = example1\n",
        "likelihood = model.log_probability(seq)\n",
        "\n",
        "print(\"The log likelihood of example 1 is:\", likelihood)"
      ],
      "execution_count": 7,
      "outputs": [
        {
          "output_type": "stream",
          "text": [
            "The log likelihood of example 1 is: -25.080227981584045\n"
          ],
          "name": "stdout"
        }
      ]
    },
    {
      "cell_type": "markdown",
      "metadata": {
        "id": "Rmand3sIZwKr",
        "colab_type": "text"
      },
      "source": [
        "When path is provided, the result means the log probability of that sequence given the path."
      ]
    },
    {
      "cell_type": "markdown",
      "metadata": {
        "id": "21FOXU54r244",
        "colab_type": "text"
      },
      "source": [
        "### Question 3 k-means and Gaussian mixtures"
      ]
    },
    {
      "cell_type": "markdown",
      "metadata": {
        "id": "CmtDkWonr8xk",
        "colab_type": "text"
      },
      "source": [
        "Read about k-means at https://medium.com/machine-learning-algorithms-from-scratch/k-means-clustering-from-scratch-in-python-1675d38eee42. Download the files and the code from https://github.com/pavankalyan1997/Machine-learning-without-any-libraries/tree/master/2.Clustering/1.K_Means_Clustering . Modify the code to perform clustering using Gaussian mixtures. Compare results based on the SSE (sum squared error), cluster means, within cluster standard deviations for each attribute."
      ]
    },
    {
      "cell_type": "markdown",
      "metadata": {
        "id": "eZErGTM009Vo",
        "colab_type": "text"
      },
      "source": [
        "**Solution:** <br>"
      ]
    },
    {
      "cell_type": "markdown",
      "metadata": {
        "id": "omKhjKoj0_MI",
        "colab_type": "text"
      },
      "source": [
        "1.  K-Means"
      ]
    },
    {
      "cell_type": "markdown",
      "metadata": {
        "id": "CYFTGt9K2ZhO",
        "colab_type": "text"
      },
      "source": [
        "a) Load and explore the dataset"
      ]
    },
    {
      "cell_type": "code",
      "metadata": {
        "id": "VvYuIJNvw28Z",
        "colab_type": "code",
        "outputId": "e3c6db31-2fb0-49bc-82c3-fcd819221e11",
        "colab": {
          "resources": {
            "http://localhost:8080/nbextensions/google.colab/files.js": {
              "data": "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",
              "ok": true,
              "headers": [
                [
                  "content-type",
                  "application/javascript"
                ]
              ],
              "status": 200,
              "status_text": ""
            }
          },
          "base_uri": "https://localhost:8080/",
          "height": 355
        }
      },
      "source": [
        "# Load the dataset\n",
        "uploaded = files.upload()\n",
        "dataset = pd.read_csv(io.BytesIO(uploaded['Mall_Customers.csv']))\n",
        "\n",
        "# Show the description of the dataset\n",
        "dataset.describe()"
      ],
      "execution_count": 0,
      "outputs": [
        {
          "output_type": "display_data",
          "data": {
            "text/html": [
              "\n",
              "     <input type=\"file\" id=\"files-94237116-778d-4296-97f8-0344119f3948\" name=\"files[]\" multiple disabled />\n",
              "     <output id=\"result-94237116-778d-4296-97f8-0344119f3948\">\n",
              "      Upload widget is only available when the cell has been executed in the\n",
              "      current browser session. Please rerun this cell to enable.\n",
              "      </output>\n",
              "      <script src=\"/nbextensions/google.colab/files.js\"></script> "
            ],
            "text/plain": [
              "<IPython.core.display.HTML object>"
            ]
          },
          "metadata": {
            "tags": []
          }
        },
        {
          "output_type": "stream",
          "text": [
            "Saving Mall_Customers.csv to Mall_Customers.csv\n"
          ],
          "name": "stdout"
        },
        {
          "output_type": "execute_result",
          "data": {
            "text/html": [
              "<div>\n",
              "<style scoped>\n",
              "    .dataframe tbody tr th:only-of-type {\n",
              "        vertical-align: middle;\n",
              "    }\n",
              "\n",
              "    .dataframe tbody tr th {\n",
              "        vertical-align: top;\n",
              "    }\n",
              "\n",
              "    .dataframe thead th {\n",
              "        text-align: right;\n",
              "    }\n",
              "</style>\n",
              "<table border=\"1\" class=\"dataframe\">\n",
              "  <thead>\n",
              "    <tr style=\"text-align: right;\">\n",
              "      <th></th>\n",
              "      <th>CustomerID</th>\n",
              "      <th>Age</th>\n",
              "      <th>Annual Income (k$)</th>\n",
              "      <th>Spending Score (1-100)</th>\n",
              "    </tr>\n",
              "  </thead>\n",
              "  <tbody>\n",
              "    <tr>\n",
              "      <th>count</th>\n",
              "      <td>200.000000</td>\n",
              "      <td>200.000000</td>\n",
              "      <td>200.000000</td>\n",
              "      <td>200.000000</td>\n",
              "    </tr>\n",
              "    <tr>\n",
              "      <th>mean</th>\n",
              "      <td>100.500000</td>\n",
              "      <td>38.850000</td>\n",
              "      <td>60.560000</td>\n",
              "      <td>50.200000</td>\n",
              "    </tr>\n",
              "    <tr>\n",
              "      <th>std</th>\n",
              "      <td>57.879185</td>\n",
              "      <td>13.969007</td>\n",
              "      <td>26.264721</td>\n",
              "      <td>25.823522</td>\n",
              "    </tr>\n",
              "    <tr>\n",
              "      <th>min</th>\n",
              "      <td>1.000000</td>\n",
              "      <td>18.000000</td>\n",
              "      <td>15.000000</td>\n",
              "      <td>1.000000</td>\n",
              "    </tr>\n",
              "    <tr>\n",
              "      <th>25%</th>\n",
              "      <td>50.750000</td>\n",
              "      <td>28.750000</td>\n",
              "      <td>41.500000</td>\n",
              "      <td>34.750000</td>\n",
              "    </tr>\n",
              "    <tr>\n",
              "      <th>50%</th>\n",
              "      <td>100.500000</td>\n",
              "      <td>36.000000</td>\n",
              "      <td>61.500000</td>\n",
              "      <td>50.000000</td>\n",
              "    </tr>\n",
              "    <tr>\n",
              "      <th>75%</th>\n",
              "      <td>150.250000</td>\n",
              "      <td>49.000000</td>\n",
              "      <td>78.000000</td>\n",
              "      <td>73.000000</td>\n",
              "    </tr>\n",
              "    <tr>\n",
              "      <th>max</th>\n",
              "      <td>200.000000</td>\n",
              "      <td>70.000000</td>\n",
              "      <td>137.000000</td>\n",
              "      <td>99.000000</td>\n",
              "    </tr>\n",
              "  </tbody>\n",
              "</table>\n",
              "</div>"
            ],
            "text/plain": [
              "       CustomerID         Age  Annual Income (k$)  Spending Score (1-100)\n",
              "count  200.000000  200.000000          200.000000              200.000000\n",
              "mean   100.500000   38.850000           60.560000               50.200000\n",
              "std     57.879185   13.969007           26.264721               25.823522\n",
              "min      1.000000   18.000000           15.000000                1.000000\n",
              "25%     50.750000   28.750000           41.500000               34.750000\n",
              "50%    100.500000   36.000000           61.500000               50.000000\n",
              "75%    150.250000   49.000000           78.000000               73.000000\n",
              "max    200.000000   70.000000          137.000000               99.000000"
            ]
          },
          "metadata": {
            "tags": []
          },
          "execution_count": 2
        }
      ]
    },
    {
      "cell_type": "code",
      "metadata": {
        "id": "gq7R-ulX1UxD",
        "colab_type": "code",
        "outputId": "bad392c0-0903-4eef-f587-9b6a2b933719",
        "colab": {
          "base_uri": "https://localhost:8080/",
          "height": 295
        }
      },
      "source": [
        "# Build our dataset using Annual Income and Spending score\n",
        "X = dataset.iloc[:, [3, 4]].values\n",
        "\n",
        "# Number of training examples\n",
        "m = X.shape[0] # m = 200\n",
        "\n",
        "# Number of features\n",
        "n = X.shape[1] # n = 2\n",
        "\n",
        "# Number of iterations\n",
        "n_iter = 100\n",
        "\n",
        "# Visualizing the dataset\n",
        "plt.scatter(X[:,0],X[:,1],c='black',label='unclustered data')\n",
        "plt.xlabel('Income')\n",
        "plt.ylabel('Number of transactions')\n",
        "plt.legend()\n",
        "plt.title('Plot of data points')\n",
        "plt.show()"
      ],
      "execution_count": 0,
      "outputs": [
        {
          "output_type": "display_data",
          "data": {
            "image/png": "[encoded data removed]",
            "text/plain": [
              "<Figure size 432x288 with 1 Axes>"
            ]
          },
          "metadata": {
            "tags": []
          }
        }
      ]
    },
    {
      "cell_type": "markdown",
      "metadata": {
        "id": "W_lW-qea5ypQ",
        "colab_type": "text"
      },
      "source": [
        "b) Using the elbow method to find the optimal number of clusters"
      ]
    },
    {
      "cell_type": "code",
      "metadata": {
        "id": "6xv-0f7b0euQ",
        "colab_type": "code",
        "outputId": "f9348918-636d-4285-cc0f-74c49c3f8b85",
        "colab": {
          "base_uri": "https://localhost:8080/",
          "height": 295
        }
      },
      "source": [
        "wcss = []\n",
        "\n",
        "for i in range(1, 11):\n",
        "    kmeans = KMeans(n_clusters = i, init = 'k-means++', random_state = 42)\n",
        "    kmeans.fit(X)\n",
        "    wcss.append(kmeans.inertia_)\n",
        "\n",
        "plt.plot(range(1, 11), wcss)\n",
        "plt.title('The Elbow Method')\n",
        "plt.xlabel('Number of clusters')\n",
        "plt.ylabel('WCSS')\n",
        "plt.show()"
      ],
      "execution_count": 0,
      "outputs": [
        {
          "output_type": "display_data",
          "data": {
            "image/png": "[encoded data removed]",
            "text/plain": [
              "<Figure size 432x288 with 1 Axes>"
            ]
          },
          "metadata": {
            "tags": []
          }
        }
      ]
    },
    {
      "cell_type": "markdown",
      "metadata": {
        "id": "NbTKnmRb0oTM",
        "colab_type": "text"
      },
      "source": [
        "Based on these observations we choose 5 as optimum number of clusters."
      ]
    },
    {
      "cell_type": "code",
      "metadata": {
        "id": "rvMo3dfo0uyN",
        "colab_type": "code",
        "colab": {}
      },
      "source": [
        "# Number of clusters\n",
        "K = 5"
      ],
      "execution_count": 0,
      "outputs": []
    },
    {
      "cell_type": "markdown",
      "metadata": {
        "id": "R1PPxc3o1AlR",
        "colab_type": "text"
      },
      "source": [
        "c) Fitting K-Means to the dataset"
      ]
    },
    {
      "cell_type": "code",
      "metadata": {
        "id": "OMgmgcrr3CJd",
        "colab_type": "code",
        "outputId": "46edb6ce-ef79-4816-c7e8-45b8bd4c3014",
        "colab": {
          "base_uri": "https://localhost:8080/",
          "height": 295
        }
      },
      "source": [
        "# K-Means clustering\n",
        "kmeans = KMeans(n_clusters = K, init = 'k-means++', random_state = 42)\n",
        "y_kmeans = kmeans.fit_predict(X)\n",
        "\n",
        "# Visualising the clusters\n",
        "plt.scatter(X[y_kmeans == 0, 0], X[y_kmeans == 0, 1], s = 100, c = 'red', label = 'Cluster 1')\n",
        "plt.scatter(X[y_kmeans == 1, 0], X[y_kmeans == 1, 1], s = 100, c = 'blue', label = 'Cluster 2')\n",
        "plt.scatter(X[y_kmeans == 2, 0], X[y_kmeans == 2, 1], s = 100, c = 'green', label = 'Cluster 3')\n",
        "plt.scatter(X[y_kmeans == 3, 0], X[y_kmeans == 3, 1], s = 100, c = 'cyan', label = 'Cluster 4')\n",
        "plt.scatter(X[y_kmeans == 4, 0], X[y_kmeans == 4, 1], s = 100, c = 'magenta', label = 'Cluster 5')\n",
        "plt.scatter(kmeans.cluster_centers_[:, 0], kmeans.cluster_centers_[:, 1], s = 300, c = 'yellow', label = 'Centroids')\n",
        "plt.title('Clusters of customers')\n",
        "plt.xlabel('Annual Income (k$)')\n",
        "plt.ylabel('Spending Score (1-100)')\n",
        "plt.legend()\n",
        "plt.show()"
      ],
      "execution_count": 0,
      "outputs": [
        {
          "output_type": "display_data",
          "data": {
            "image/png": "[encoded data removed]",
            "text/plain": [
              "<Figure size 432x288 with 1 Axes>"
            ]
          },
          "metadata": {
            "tags": []
          }
        }
      ]
    },
    {
      "cell_type": "markdown",
      "metadata": {
        "id": "SPIY_kuu3etN",
        "colab_type": "text"
      },
      "source": [
        "d) Evaluate the model"
      ]
    },
    {
      "cell_type": "code",
      "metadata": {
        "id": "nUyIU_bh3g94",
        "colab_type": "code",
        "outputId": "cc9bc853-9b33-44ce-a100-2a40d7aa36ed",
        "colab": {
          "base_uri": "https://localhost:8080/",
          "height": 323
        }
      },
      "source": [
        "print(\"Here are the evaluations of K-Means Model:\\n\")\n",
        "\n",
        "# Compute SSE\n",
        "sse = kmeans.inertia_\n",
        "print(\"SSE of the model is: {:.2f}\".format(sse))\n",
        "\n",
        "# Compute cluster means and within cluster standard deviations\n",
        "c_means = kmeans.cluster_centers_\n",
        "\n",
        "c1_mean = c_means[0]\n",
        "c1_std = np.std(X[y_kmeans == 0])\n",
        "print(\"\\nCluster Means of cluster 1 is:\", c1_mean)\n",
        "print(\"Within cluster standard deviations of cluster 1 is: {:.2f}\".format(c1_std))\n",
        "\n",
        "c2_mean = c_means[1]\n",
        "c2_std = np.std(X[y_kmeans == 1])\n",
        "print(\"\\nCluster Means of cluster 2 is:\", c2_mean)\n",
        "print(\"Within cluster standard deviations of cluster 2 is: {:.2f}\".format(c2_std))\n",
        "\n",
        "c3_mean = c_means[2]\n",
        "c3_std = np.std(X[y_kmeans == 2])\n",
        "print(\"\\nCluster Means of cluster 3 is:\", c3_mean)\n",
        "print(\"Within cluster standard deviations of cluster 3 is: {:.2f}\".format(c3_std))\n",
        "\n",
        "c4_mean = c_means[3]\n",
        "c4_std = np.std(X[y_kmeans == 3])\n",
        "print(\"\\nCluster Means of cluster 4 is:\", c4_mean)\n",
        "print(\"Within cluster standard deviations of cluster 4 is: {:.2f}\".format(c4_std))\n",
        "\n",
        "c5_mean = c_means[4]\n",
        "c5_std = np.std(X[y_kmeans == 4])\n",
        "print(\"\\nCluster Means of cluster 5 is:\", c5_mean)\n",
        "print(\"Within cluster standard deviations of cluster 5 is: {:.2f}\".format(c5_std))"
      ],
      "execution_count": 0,
      "outputs": [
        {
          "output_type": "stream",
          "text": [
            "Here are the evaluations of K-Means Model:\n",
            "\n",
            "SSE of the model is: 44448.46\n",
            "\n",
            "Cluster Means of cluster 1 is: [55.2962963  49.51851852]\n",
            "Within cluster standard deviations of cluster 1 is: 8.32\n",
            "\n",
            "Cluster Means of cluster 2 is: [88.2        17.11428571]\n",
            "Within cluster standard deviations of cluster 2 is: 37.97\n",
            "\n",
            "Cluster Means of cluster 3 is: [26.30434783 20.91304348]\n",
            "Within cluster standard deviations of cluster 3 is: 10.87\n",
            "\n",
            "Cluster Means of cluster 4 is: [25.72727273 79.36363636]\n",
            "Within cluster standard deviations of cluster 4 is: 28.27\n",
            "\n",
            "Cluster Means of cluster 5 is: [86.53846154 82.12820513]\n",
            "Within cluster standard deviations of cluster 5 is: 13.31\n"
          ],
          "name": "stdout"
        }
      ]
    },
    {
      "cell_type": "markdown",
      "metadata": {
        "id": "qTC623PG_0tx",
        "colab_type": "text"
      },
      "source": [
        "2. Gaussian Mixtures"
      ]
    },
    {
      "cell_type": "markdown",
      "metadata": {
        "id": "kvGfGnwgAB3F",
        "colab_type": "text"
      },
      "source": [
        "a) Load and explore the dataset"
      ]
    },
    {
      "cell_type": "code",
      "metadata": {
        "id": "6NEH_1HaACSe",
        "colab_type": "code",
        "outputId": "50bd0ae7-3f01-42e8-bef2-03f7aa6acaf1",
        "colab": {
          "resources": {
            "http://localhost:8080/nbextensions/google.colab/files.js": {
              "data": "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",
              "ok": true,
              "headers": [
                [
                  "content-type",
                  "application/javascript"
                ]
              ],
              "status": 200,
              "status_text": ""
            }
          },
          "base_uri": "https://localhost:8080/",
          "height": 355
        }
      },
      "source": [
        "# Load the dataset\n",
        "uploaded = files.upload()\n",
        "dataset = pd.read_csv(io.BytesIO(uploaded['Mall_Customers.csv']))\n",
        "\n",
        "# Show the description of the dataset\n",
        "dataset.describe()"
      ],
      "execution_count": 0,
      "outputs": [
        {
          "output_type": "display_data",
          "data": {
            "text/html": [
              "\n",
              "     <input type=\"file\" id=\"files-5d597ffa-183e-430d-94c5-09f2e9dd580d\" name=\"files[]\" multiple disabled />\n",
              "     <output id=\"result-5d597ffa-183e-430d-94c5-09f2e9dd580d\">\n",
              "      Upload widget is only available when the cell has been executed in the\n",
              "      current browser session. Please rerun this cell to enable.\n",
              "      </output>\n",
              "      <script src=\"/nbextensions/google.colab/files.js\"></script> "
            ],
            "text/plain": [
              "<IPython.core.display.HTML object>"
            ]
          },
          "metadata": {
            "tags": []
          }
        },
        {
          "output_type": "stream",
          "text": [
            "Saving Mall_Customers.csv to Mall_Customers.csv\n"
          ],
          "name": "stdout"
        },
        {
          "output_type": "execute_result",
          "data": {
            "text/html": [
              "<div>\n",
              "<style scoped>\n",
              "    .dataframe tbody tr th:only-of-type {\n",
              "        vertical-align: middle;\n",
              "    }\n",
              "\n",
              "    .dataframe tbody tr th {\n",
              "        vertical-align: top;\n",
              "    }\n",
              "\n",
              "    .dataframe thead th {\n",
              "        text-align: right;\n",
              "    }\n",
              "</style>\n",
              "<table border=\"1\" class=\"dataframe\">\n",
              "  <thead>\n",
              "    <tr style=\"text-align: right;\">\n",
              "      <th></th>\n",
              "      <th>CustomerID</th>\n",
              "      <th>Age</th>\n",
              "      <th>Annual Income (k$)</th>\n",
              "      <th>Spending Score (1-100)</th>\n",
              "    </tr>\n",
              "  </thead>\n",
              "  <tbody>\n",
              "    <tr>\n",
              "      <th>count</th>\n",
              "      <td>200.000000</td>\n",
              "      <td>200.000000</td>\n",
              "      <td>200.000000</td>\n",
              "      <td>200.000000</td>\n",
              "    </tr>\n",
              "    <tr>\n",
              "      <th>mean</th>\n",
              "      <td>100.500000</td>\n",
              "      <td>38.850000</td>\n",
              "      <td>60.560000</td>\n",
              "      <td>50.200000</td>\n",
              "    </tr>\n",
              "    <tr>\n",
              "      <th>std</th>\n",
              "      <td>57.879185</td>\n",
              "      <td>13.969007</td>\n",
              "      <td>26.264721</td>\n",
              "      <td>25.823522</td>\n",
              "    </tr>\n",
              "    <tr>\n",
              "      <th>min</th>\n",
              "      <td>1.000000</td>\n",
              "      <td>18.000000</td>\n",
              "      <td>15.000000</td>\n",
              "      <td>1.000000</td>\n",
              "    </tr>\n",
              "    <tr>\n",
              "      <th>25%</th>\n",
              "      <td>50.750000</td>\n",
              "      <td>28.750000</td>\n",
              "      <td>41.500000</td>\n",
              "      <td>34.750000</td>\n",
              "    </tr>\n",
              "    <tr>\n",
              "      <th>50%</th>\n",
              "      <td>100.500000</td>\n",
              "      <td>36.000000</td>\n",
              "      <td>61.500000</td>\n",
              "      <td>50.000000</td>\n",
              "    </tr>\n",
              "    <tr>\n",
              "      <th>75%</th>\n",
              "      <td>150.250000</td>\n",
              "      <td>49.000000</td>\n",
              "      <td>78.000000</td>\n",
              "      <td>73.000000</td>\n",
              "    </tr>\n",
              "    <tr>\n",
              "      <th>max</th>\n",
              "      <td>200.000000</td>\n",
              "      <td>70.000000</td>\n",
              "      <td>137.000000</td>\n",
              "      <td>99.000000</td>\n",
              "    </tr>\n",
              "  </tbody>\n",
              "</table>\n",
              "</div>"
            ],
            "text/plain": [
              "       CustomerID         Age  Annual Income (k$)  Spending Score (1-100)\n",
              "count  200.000000  200.000000          200.000000              200.000000\n",
              "mean   100.500000   38.850000           60.560000               50.200000\n",
              "std     57.879185   13.969007           26.264721               25.823522\n",
              "min      1.000000   18.000000           15.000000                1.000000\n",
              "25%     50.750000   28.750000           41.500000               34.750000\n",
              "50%    100.500000   36.000000           61.500000               50.000000\n",
              "75%    150.250000   49.000000           78.000000               73.000000\n",
              "max    200.000000   70.000000          137.000000               99.000000"
            ]
          },
          "metadata": {
            "tags": []
          },
          "execution_count": 2
        }
      ]
    },
    {
      "cell_type": "code",
      "metadata": {
        "id": "t_wwxyNHKcDz",
        "colab_type": "code",
        "outputId": "e3a68343-e9be-4238-84d3-c3923b10ede8",
        "colab": {
          "base_uri": "https://localhost:8080/",
          "height": 301
        }
      },
      "source": [
        "# Build our dataset using Annual Income and Spending score\n",
        "X = dataset.iloc[:, [3, 4]].values\n",
        "\n",
        "# Number of training examples\n",
        "m = X.shape[0] # m = 200\n",
        "\n",
        "# Number of features\n",
        "n = X.shape[1] # n = 2\n",
        "\n",
        "# Number of iterations\n",
        "n_iter = 100\n",
        "\n",
        "# Visualizing the dataset\n",
        "plt.scatter(X[:,0],X[:,1],c='black',label='unclustered data')\n",
        "plt.xlabel('Income')\n",
        "plt.ylabel('Number of transactions')\n",
        "plt.legend()\n",
        "plt.title('Plot of data points')\n",
        "plt.show()"
      ],
      "execution_count": 0,
      "outputs": [
        {
          "output_type": "display_data",
          "data": {
            "image/png": "[encoded data removed]",
            "text/plain": [
              "<Figure size 432x288 with 1 Axes>"
            ]
          },
          "metadata": {
            "tags": []
          }
        }
      ]
    },
    {
      "cell_type": "markdown",
      "metadata": {
        "id": "whT7q1VqAGWz",
        "colab_type": "text"
      },
      "source": [
        "b) Using the  Akaike information criterion (AIC) and the Bayesian information criterion (BIC) to find the optimal number of clusters"
      ]
    },
    {
      "cell_type": "code",
      "metadata": {
        "id": "3J02EyMDAJTz",
        "colab_type": "code",
        "outputId": "ca669b72-c87b-4c62-8da9-2bce26998895",
        "colab": {
          "base_uri": "https://localhost:8080/",
          "height": 301
        }
      },
      "source": [
        "n_components = np.arange(1, 11)\n",
        "\n",
        "models = [GaussianMixture(n, covariance_type='full', random_state=42).fit(X)\n",
        "          for n in n_components]\n",
        "\n",
        "plt.plot(n_components, [m.bic(X) for m in models], label='BIC')\n",
        "plt.plot(n_components, [m.aic(X) for m in models], label='AIC')\n",
        "plt.title('AIC and BIC criterion')\n",
        "plt.legend(loc='best')\n",
        "plt.xlabel('n_components');"
      ],
      "execution_count": 0,
      "outputs": [
        {
          "output_type": "display_data",
          "data": {
            "image/png": "[encoded data removed]",
            "text/plain": [
              "<Figure size 432x288 with 1 Axes>"
            ]
          },
          "metadata": {
            "tags": []
          }
        }
      ]
    },
    {
      "cell_type": "markdown",
      "metadata": {
        "id": "26eIwwXnBeYn",
        "colab_type": "text"
      },
      "source": [
        "The optimal number of clusters is the value that minimizes the AIC or BIC, depending on which approximation we wish to use.  The AIC tells us that our choice of 10 components above was probably too many: around 4-8 components would have been a better choice. As is typical with this sort of problem, the BIC recommends a simpler model. So that we can choose 5 as optimum number of clusters."
      ]
    },
    {
      "cell_type": "code",
      "metadata": {
        "id": "2CihP-JnBe_-",
        "colab_type": "code",
        "colab": {}
      },
      "source": [
        "# Number of clusters\n",
        "K = 5"
      ],
      "execution_count": 0,
      "outputs": []
    },
    {
      "cell_type": "markdown",
      "metadata": {
        "id": "xDkJ-kVuARFx",
        "colab_type": "text"
      },
      "source": [
        "c) Fitting Gaussian Mixtures to the dataset"
      ]
    },
    {
      "cell_type": "code",
      "metadata": {
        "id": "Eco6SDE1AUaS",
        "colab_type": "code",
        "colab": {}
      },
      "source": [
        "# Gaussian Mixtures clustering\n",
        "gmm = GaussianMixture(n_components=K, covariance_type='full', random_state = 42).fit(X)\n",
        "labels = gmm.predict(X)"
      ],
      "execution_count": 0,
      "outputs": []
    },
    {
      "cell_type": "code",
      "metadata": {
        "id": "6O4ni9boKjG-",
        "colab_type": "code",
        "colab": {}
      },
      "source": [
        "def draw_ellipse(position, covariance, ax=None, **kwargs):\n",
        "  \"\"\"Draw an ellipse with a given position and covariance\"\"\"\n",
        "  ax = ax or plt.gca()\n",
        "    \n",
        "  # Convert covariance to principal axes\n",
        "  if covariance.shape == (2, 2):\n",
        "    U, s, Vt = np.linalg.svd(covariance)\n",
        "    angle = np.degrees(np.arctan2(U[1, 0], U[0, 0]))\n",
        "    width, height = 2 * np.sqrt(s)\n",
        "  else:\n",
        "    angle = 0\n",
        "    width, height = 2 * np.sqrt(covariance)\n",
        "    \n",
        "  # Draw the Ellipse\n",
        "  for nsig in range(1, 4):\n",
        "    ax.add_patch(Ellipse(position, nsig * width, nsig * height, angle, **kwargs))"
      ],
      "execution_count": 0,
      "outputs": []
    },
    {
      "cell_type": "code",
      "metadata": {
        "id": "wMB4AAHCIVrk",
        "colab_type": "code",
        "outputId": "19bcd3bf-856d-4fe6-91ca-1dd6f97d06fd",
        "colab": {
          "base_uri": "https://localhost:8080/",
          "height": 301
        }
      },
      "source": [
        "# Visualising the clusters\n",
        "plt.scatter(X[labels == 0, 0], X[labels == 0, 1], s = 100, c = 'red', label = 'Cluster 1')\n",
        "plt.scatter(X[labels == 1, 0], X[labels == 1, 1], s = 100, c = 'blue', label = 'Cluster 2')\n",
        "plt.scatter(X[labels == 2, 0], X[labels == 2, 1], s = 100, c = 'green', label = 'Cluster 3')\n",
        "plt.scatter(X[labels == 3, 0], X[labels == 3, 1], s = 100, c = 'cyan', label = 'Cluster 4')\n",
        "plt.scatter(X[labels == 4, 0], X[labels == 4, 1], s = 100, c = 'magenta', label = 'Cluster 5')\n",
        "plt.scatter(gmm.means_[:, 0], gmm.means_[:, 1], s = 300, c = 'yellow', label = 'Centroids')\n",
        "\n",
        "w_factor = 0.2 / gmm.weights_.max()\n",
        "for pos, covar, w in zip(gmm.means_, gmm.covariances_, gmm.weights_):\n",
        "  draw_ellipse(pos, covar, alpha=w * w_factor)\n",
        "\n",
        "plt.title('Clusters of customers')\n",
        "plt.xlabel('Annual Income (k$)')\n",
        "plt.ylabel('Spending Score (1-100)')\n",
        "plt.legend()\n",
        "plt.show()"
      ],
      "execution_count": 0,
      "outputs": [
        {
          "output_type": "display_data",
          "data": {
            "image/png": "[encoded data removed]",
            "text/plain": [
              "<Figure size 432x288 with 1 Axes>"
            ]
          },
          "metadata": {
            "tags": []
          }
        }
      ]
    },
    {
      "cell_type": "markdown",
      "metadata": {
        "id": "0N3Ql9BAMSpO",
        "colab_type": "text"
      },
      "source": [
        "d) Evaluate the model"
      ]
    },
    {
      "cell_type": "code",
      "metadata": {
        "id": "htRN5BwBMTSL",
        "colab_type": "code",
        "outputId": "ccf03797-d8b7-47c9-c762-b74fd29dab92",
        "colab": {
          "base_uri": "https://localhost:8080/",
          "height": 323
        }
      },
      "source": [
        "print(\"Here are the evaluations of Gaussian Mixtures Model:\\n\")\n",
        "\n",
        "# Compute SSE\n",
        "sse = np.sum(gmm.covariances_)\n",
        "print(\"SSE of the model is: {:.2f}\".format(sse))\n",
        "\n",
        "# Compute cluster means and within cluster standard deviations\n",
        "c_means = gmm.means_\n",
        "\n",
        "c1_mean = c_means[0]\n",
        "c1_std = np.std(X[labels == 0])\n",
        "print(\"\\nCluster Means of cluster 1 is:\", c1_mean)\n",
        "print(\"Within cluster standard deviations of cluster 1 is: {:.2f}\".format(c1_std))\n",
        "\n",
        "c2_mean = c_means[1]\n",
        "c2_std = np.std(X[labels == 1])\n",
        "print(\"\\nCluster Means of cluster 2 is:\", c2_mean)\n",
        "print(\"Within cluster standard deviations of cluster 2 is: {:.2f}\".format(c2_std))\n",
        "\n",
        "c3_mean = c_means[2]\n",
        "c3_std = np.std(X[labels == 2])\n",
        "print(\"\\nCluster Means of cluster 3 is:\", c3_mean)\n",
        "print(\"Within cluster standard deviations of cluster 3 is: {:.2f}\".format(c3_std))\n",
        "\n",
        "c4_mean = c_means[3]\n",
        "c4_std = np.std(X[labels == 3])\n",
        "print(\"\\nCluster Means of cluster 4 is:\", c4_mean)\n",
        "print(\"Within cluster standard deviations of cluster 4 is: {:.2f}\".format(c4_std))\n",
        "\n",
        "c5_mean = c_means[4]\n",
        "c5_std = np.std(X[labels == 4])\n",
        "print(\"\\nCluster Means of cluster 5 is:\", c5_mean)\n",
        "print(\"Within cluster standard deviations of cluster 5 is: {:.2f}\".format(c5_std))"
      ],
      "execution_count": 0,
      "outputs": [
        {
          "output_type": "stream",
          "text": [
            "Here are the evaluations of Gaussian Mixtures Model:\n",
            "\n",
            "SSE of the model is: 1351.35\n",
            "\n",
            "Cluster Means of cluster 1 is: [55.710366   49.40699488]\n",
            "Within cluster standard deviations of cluster 1 is: 8.95\n",
            "\n",
            "Cluster Means of cluster 2 is: [88.81300265 16.12462277]\n",
            "Within cluster standard deviations of cluster 2 is: 38.74\n",
            "\n",
            "Cluster Means of cluster 3 is: [27.03119094 22.16675827]\n",
            "Within cluster standard deviations of cluster 3 is: 10.87\n",
            "\n",
            "Cluster Means of cluster 4 is: [25.11748524 80.12817162]\n",
            "Within cluster standard deviations of cluster 4 is: 28.80\n",
            "\n",
            "Cluster Means of cluster 5 is: [86.24063303 82.02037464]\n",
            "Within cluster standard deviations of cluster 5 is: 13.31\n"
          ],
          "name": "stdout"
        }
      ]
    },
    {
      "cell_type": "markdown",
      "metadata": {
        "id": "5BM1RhyZNmjM",
        "colab_type": "text"
      },
      "source": [
        "3. Analysis"
      ]
    },
    {
      "cell_type": "markdown",
      "metadata": {
        "id": "Kklsk2MSNpUC",
        "colab_type": "text"
      },
      "source": [
        "Based on our results, we can notice that SSE of the Gaussian Mixtures Clustering is musch less than K-Means Clustering, which means that Gaussian Mixtures have overall better performance than K-Means. However, for std within each clusters, we can notice K-Means fits slightly better, this means K-Means fit data better locally, that's maybe because Gaussian Mixtures is a kind of Generative model.\n",
        "\n",
        "But we can find that, compare to K-Means, Gaussian Mixtures has 2 obvious advantages:<br>\n",
        "1) Gaussian Mixtures can give probabilistic cluster assignment<br>\n",
        "2) Gaussian Mixtures has more flexibility in cluster shape"
      ]
    },
    {
      "cell_type": "markdown",
      "metadata": {
        "id": "1TWurtAQ4ceS",
        "colab_type": "text"
      },
      "source": [
        "### Question 4 Markov chains"
      ]
    },
    {
      "cell_type": "markdown",
      "metadata": {
        "id": "OrgQVfHM4ci8",
        "colab_type": "text"
      },
      "source": [
        "If “whether tomorrow is raining” is only related with the weather of today, and suppose the probability of “Both of today and tomorrow are raining” is 0.8; the probability of “Neither today nor tomorrow is raining” is 0.7. The state of raining or not on any given day is 1 and 0, respectively. "
      ]
    },
    {
      "cell_type": "markdown",
      "metadata": {
        "id": "WbgDRhWK4mt4",
        "colab_type": "text"
      },
      "source": [
        "(1) Is “whether it’s raining on any given day” a Markov chain. If yes, find the matrix of transition probability. "
      ]
    },
    {
      "cell_type": "markdown",
      "metadata": {
        "id": "L7UgbsiK4ugb",
        "colab_type": "text"
      },
      "source": [
        "**Solution:** <br>\n",
        "Yes, “whether it’s raining on any given day” is a Markov chain, and it and be represented as graphical model shown below:<br>\n",
        "\n",
        "<img src=\"https://github.com/ShawnSerendipity/ELG-7172-Uncertainty-Evaluation-in-Engineering-Measurements-and-Machine-Learning/blob/master/Assignment2-Figure1.png?raw=true\" width=\"360\" align=\"center\"/>\n",
        "\n",
        "Matrix of transition probability is:\n",
        "\n",
        "$ P = \n",
        "  \\begin{pmatrix}\n",
        "  0.7 & 0.3 \\\\\n",
        "  0.2 & 0.8 \n",
        "  \\end{pmatrix}\n",
        "$\n",
        "\n",
        "<br>\n",
        "<br>"
      ]
    },
    {
      "cell_type": "markdown",
      "metadata": {
        "id": "lYMJBJQf-02S",
        "colab_type": "text"
      },
      "source": [
        "(2) Find the probability of “Day 3” is raining, given “Day 1” is raining."
      ]
    },
    {
      "cell_type": "markdown",
      "metadata": {
        "id": "u5EAvPC--4Qy",
        "colab_type": "text"
      },
      "source": [
        "**Solution:** <br>\n",
        "Sate from day 1 to day 3 can be represented as below:<br>\n",
        "\n",
        "<img src=\"https://github.com/ShawnSerendipity/ELG-7172-Uncertainty-Evaluation-in-Engineering-Measurements-and-Machine-Learning/blob/master/Assignment2-Figure2.png?raw=true\" width=\"360\" align=\"center\"/>\n",
        "\n",
        "So, probability of “Day 3” is raining, given “Day 1” is raining can be calculated as:<br>\n",
        "$ p(Day 3 = 1 | Day = 1) = 0.2 \\times 0.3 + 0.8 \\times 0.8 = 0.7 $\n",
        "\n",
        "<br>\n",
        "<br>"
      ]
    },
    {
      "cell_type": "markdown",
      "metadata": {
        "id": "Z-71-PqtCUvK",
        "colab_type": "text"
      },
      "source": [
        "(3) Program this Markov chain. You can use Markov Chain implementation of pomegranate https://github.com/jmschrei/pomegranate/tree/master/tutorials"
      ]
    },
    {
      "cell_type": "markdown",
      "metadata": {
        "id": "fT66rw8iCXCz",
        "colab_type": "text"
      },
      "source": [
        "**Solution:** <br>"
      ]
    },
    {
      "cell_type": "code",
      "metadata": {
        "id": "c7thTIh3FqKN",
        "colab_type": "code",
        "colab": {}
      },
      "source": [
        "class MarkovChain(object):\n",
        "    def __init__(self, transition_prob):\n",
        "        \"\"\"\n",
        "        Initialize the MarkovChain instance.\n",
        " \n",
        "        Parameters\n",
        "        ----------\n",
        "        transition_prob: dict\n",
        "            A dict object representing the transition \n",
        "            probabilities in Markov Chain. \n",
        "            Should be of the form: \n",
        "                {'state1': {'state1': 0.1, 'state2': 0.4}, \n",
        "                 'state2': {...}}\n",
        "        \"\"\"\n",
        "        self.transition_prob = transition_prob\n",
        "        self.states = list(transition_prob.keys())\n",
        " \n",
        "    def next_state(self, current_state):\n",
        "        \"\"\"\n",
        "        Returns the state of the random variable at the next time \n",
        "        instance.\n",
        " \n",
        "        Parameters\n",
        "        ----------\n",
        "        current_state: str\n",
        "            The current state of the system.\n",
        "        \"\"\"\n",
        "        return np.random.choice(\n",
        "            self.states, \n",
        "            p=[self.transition_prob[current_state][next_state] \n",
        "               for next_state in self.states]\n",
        "        )\n",
        " \n",
        "    def generate_states(self, current_state, no=10):\n",
        "        \"\"\"\n",
        "        Generates the next states of the system.\n",
        " \n",
        "        Parameters\n",
        "        ----------\n",
        "        current_state: str\n",
        "            The state of the current random variable.\n",
        " \n",
        "        no: int\n",
        "            The number of future states to generate.\n",
        "        \"\"\"\n",
        "        future_states = []\n",
        "        for i in range(no):\n",
        "            next_state = self.next_state(current_state)\n",
        "            future_states.append(next_state)\n",
        "            current_state = next_state\n",
        "        return future_states"
      ],
      "execution_count": 0,
      "outputs": []
    },
    {
      "cell_type": "code",
      "metadata": {
        "id": "2lTw9pDgGNe7",
        "colab_type": "code",
        "outputId": "6bb9e6e3-9f4e-4e39-ee8d-624d61d0f161",
        "colab": {
          "base_uri": "https://localhost:8080/",
          "height": 51
        }
      },
      "source": [
        "# Define the transition matrix\n",
        "transition_prob = {'Not Raining': {'Not Raining': 0.7, 'Raining': 0.3},\n",
        "                   'Raining': {'Not Raining': 0.2, 'Raining': 0.8}}\n",
        "\n",
        "# Build the markov chain \n",
        "weather_chain = MarkovChain(transition_prob=transition_prob)\n",
        "\n",
        "# Generate next 10 states given raining now \n",
        "next_states = weather_chain.generate_states(current_state='Raining', no=10)\n",
        "print(\"Generate next 10 states given raining now:\\n\", next_states)"
      ],
      "execution_count": 0,
      "outputs": [
        {
          "output_type": "stream",
          "text": [
            "Generate next 10 states given raining now:\n",
            " ['Raining', 'Raining', 'Raining', 'Raining', 'Raining', 'Raining', 'Raining', 'Raining', 'Raining', 'Raining']\n"
          ],
          "name": "stdout"
        }
      ]
    }
  ]
}