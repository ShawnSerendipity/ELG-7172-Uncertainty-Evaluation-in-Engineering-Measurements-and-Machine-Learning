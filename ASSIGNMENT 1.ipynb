{
  "nbformat": 4,
  "nbformat_minor": 0,
  "metadata": {
    "colab": {
      "name": "ELG_7172B_ASSIGNMENT 1",
      "provenance": [],
      "collapsed_sections": []
    },
    "kernelspec": {
      "name": "python3",
      "display_name": "Python 3"
    }
  },
  "cells": [
    {
      "cell_type": "markdown",
      "metadata": {
        "id": "qvV1G93EE-Ob",
        "colab_type": "text"
      },
      "source": [
        "## Assignment 1 Solutions\n",
        "\n"
      ]
    },
    {
      "cell_type": "code",
      "metadata": {
        "id": "KybcMg7lHu8d",
        "colab_type": "code",
        "colab": {}
      },
      "source": [
        "#@title Import { display-mode: \"form\" }\n",
        "\n",
        "import numpy as np\n",
        "import matplotlib.pyplot as plt\n",
        "from scipy.stats import dirichlet\n",
        "\n",
        "from sklearn.linear_model import LinearRegression\n",
        "from sklearn.linear_model import Ridge\n",
        "from sklearn.metrics import mean_squared_error, r2_score"
      ],
      "execution_count": 0,
      "outputs": []
    },
    {
      "cell_type": "markdown",
      "metadata": {
        "id": "7wfSPG0HFVFx",
        "colab_type": "text"
      },
      "source": [
        "### Problem 1"
      ]
    },
    {
      "cell_type": "markdown",
      "metadata": {
        "id": "ac2z3x7LMEEP",
        "colab_type": "text"
      },
      "source": [
        "Variance of a sum <br>\n",
        "\n",
        "1.   Show that the variance of a sum is var [X + Y] = var[X] + var[Y] + 2cov[X, Y] , where cov[X, Y] is the covariance between X and Y.\n",
        "\n"
      ]
    },
    {
      "cell_type": "markdown",
      "metadata": {
        "id": "bQEMQMBYNicl",
        "colab_type": "text"
      },
      "source": [
        "**Solution:** <br>\n",
        "\n",
        "\n",
        "\n",
        "> Based on the definition of variance:\n",
        "> $Var(X+Y) = E[(X + Y − E[X+Y])^2] = E[(X− μ_X + Y − μ_Y)^2] = E [(X − μ_X)^2 + (Y − μ_Y)^2 + 2(X − μ_X)(Y − μ_Y)]$ <br><br>\n",
        "According to the linearity:\n",
        "$Var(X+Y)=E[(X − E[X])^2]+E[(Y − E[Y])^2]+2E[(X − μ_X)(Y − μ_Y)]\n",
        "= Var(X) + Var(Y) + 2Cov(X, Y)$\n"
      ]
    },
    {
      "cell_type": "markdown",
      "metadata": {
        "id": "oZw6myflGTaJ",
        "colab_type": "text"
      },
      "source": [
        "\n",
        "\n",
        "2.   In Python, generate N=100 random variables X, Y from multivariate Gaussian. Assume fixed initial values of your choice for  mean[X], mean[Y], var[X], var [Y ] and cov [X, Y]. Now, compute empirical variance and covariances (from your data) and show that above formula is correct.\n",
        "\n"
      ]
    },
    {
      "cell_type": "markdown",
      "metadata": {
        "id": "QpUe4GYyghSB",
        "colab_type": "text"
      },
      "source": [
        "**Solution:**"
      ]
    },
    {
      "cell_type": "code",
      "metadata": {
        "id": "LYciRQzUHsmS",
        "colab_type": "code",
        "outputId": "c22f3e0e-ad81-4ac4-dd3b-16cafbd6383b",
        "colab": {
          "base_uri": "https://localhost:8080/",
          "height": 85
        }
      },
      "source": [
        "# Set the random seed to make result reproducible\n",
        "np.random.seed(123)\n",
        "\n",
        "# For random variable X\n",
        "X = np.random.normal(0, 1, size=100)\n",
        "var_X = np.var(X)\n",
        "\n",
        "# For random variable Y\n",
        "Y = np.random.normal(2, 2, size=100)\n",
        "var_Y = np.var(Y)\n",
        "\n",
        "# Calculate 𝑉𝑎𝑟(𝑋+𝑌) and 𝐶𝑜𝑣(𝑋,𝑌) respectively\n",
        "var_XY = np.var(X + Y)\n",
        "cov_XY = np.cov(X, Y)[0,1]\n",
        "\n",
        "# Show that above formula is correct\n",
        "print(\"Based on computed empirical variance and covariances:\")\n",
        "print(\"𝑉𝑎𝑟(𝑋+𝑌) = {:.2f}\".format(var_XY))\n",
        "print(\"𝑉𝑎𝑟(𝑋)+𝑉𝑎𝑟(𝑌)+2𝐶𝑜𝑣(𝑋,𝑌) = {:.2f}\".format(var_X + var_Y + 2*cov_XY))\n",
        "print(\"The results show that above formula is correct.\")"
      ],
      "execution_count": 0,
      "outputs": [
        {
          "output_type": "stream",
          "text": [
            "Based on computed empirical variance and covariances:\n",
            "𝑉𝑎𝑟(𝑋+𝑌) = 4.95\n",
            "𝑉𝑎𝑟(𝑋)+𝑉𝑎𝑟(𝑌)+2𝐶𝑜𝑣(𝑋,𝑌) = 4.95\n",
            "The results show that above formula is correct.\n"
          ],
          "name": "stdout"
        }
      ]
    },
    {
      "cell_type": "markdown",
      "metadata": {
        "id": "YVDFy4igK06F",
        "colab_type": "text"
      },
      "source": [
        "### Problem 2"
      ]
    },
    {
      "cell_type": "markdown",
      "metadata": {
        "id": "xPDcKa19K476",
        "colab_type": "text"
      },
      "source": [
        "Bayesian analysis of the exponential distribution <br>\n",
        "<br>\n",
        "A lifetime X of a machine is modeled by an exponential distribution with unknown parameter θ. The likelihood is: <br> \n",
        "$p(x|θ) = θe^{−θx}$ for x ≥ 0, θ > 0."
      ]
    },
    {
      "cell_type": "markdown",
      "metadata": {
        "id": "4luQPVlqxrWp",
        "colab_type": "text"
      },
      "source": [
        "\n",
        "\n",
        "1. Show that the MLE is $\\hat{θ}$ = 1/$\\bar{x}$, where $\\bar{x} = \\frac{1}{N}\\displaystyle\\sum_{i=1}^{N}x_i$"
      ]
    },
    {
      "cell_type": "markdown",
      "metadata": {
        "id": "8c6uNZIeopGT",
        "colab_type": "text"
      },
      "source": [
        "**Solution:** <br>\n",
        "\n",
        "> Given observed iid values $X_1 = x_1, X_2 = x_2, . . . , X_N = x_N$, the likelihood is: <br>\n",
        "$p(x_1,...x_N|θ) = (θe^{−θx_1}) \\times...\\times (θe^{−θx_N})$ for x ≥ 0, θ > 0 <br>\n",
        "We often use the fact that the logarithm is an increasing function so it will be equivalent to maximise the log likelihood: <br>\n",
        "$log(p(x_1,...x_N|θ)) = log(θe^{−θx_1}) +...+ log(θe^{−θx_N}) = Nlog(θ) - θ(x_1 +... + x_N)$ <br>\n",
        "We need to find the maximum by finding the derivative: <br>\n",
        "$\\frac{d}{dθ}log(p(x_1,...x_N|θ)) = \\frac{N}{θ} - (x_1 +...+ x_N) = 0$ <br>\n",
        "From which we can get the MLE is $\\hat{θ}$ = 1/$\\bar{x}$, where $\\bar{x} = \\frac{1}{N}\\displaystyle\\sum_{i=1}^{N}x_i$"
      ]
    },
    {
      "cell_type": "markdown",
      "metadata": {
        "id": "zctJEdJF6uQk",
        "colab_type": "text"
      },
      "source": [
        "\n",
        "\n",
        "2. Suppose we observe $X_1 = 5, X_2 = 6, X_3 = 4$ (the lifetimes (in years) of 3 different iid machines).\n",
        "What is the MLE given this data?\n",
        "\n"
      ]
    },
    {
      "cell_type": "markdown",
      "metadata": {
        "id": "r9XHlQGnt7Ov",
        "colab_type": "text"
      },
      "source": [
        "**Solution:** <br>"
      ]
    },
    {
      "cell_type": "code",
      "metadata": {
        "id": "JyTOg-zhsAsO",
        "colab_type": "code",
        "outputId": "1c828e27-005f-4b88-b2c5-b917deb7cb04",
        "colab": {
          "base_uri": "https://localhost:8080/",
          "height": 34
        }
      },
      "source": [
        "# Lifetimes (in years) of 3 different iid machines\n",
        "X1 = 5\n",
        "X2 = 6\n",
        "X3 = 4\n",
        "\n",
        "# MLE given this data\n",
        "theta_hat = 1. / (X1 + X2 + X3)\n",
        "\n",
        "# Print the result\n",
        "print(\"The MLE given this data is:= {:.2f}\".format(theta_hat))"
      ],
      "execution_count": 0,
      "outputs": [
        {
          "output_type": "stream",
          "text": [
            "The MLE given this data is:= 0.07\n"
          ],
          "name": "stdout"
        }
      ]
    },
    {
      "cell_type": "markdown",
      "metadata": {
        "id": "hMMmgikBtesA",
        "colab_type": "text"
      },
      "source": [
        "\n",
        "\n",
        "3. Assume that an expert believes θ should have a prior distribution that is also exponential <br>\n",
        "$p(θ) = θ^3e^{−3θ}$ <br>\n",
        "What is the posterior?\n"
      ]
    },
    {
      "cell_type": "markdown",
      "metadata": {
        "id": "izaB3mSrw2t9",
        "colab_type": "text"
      },
      "source": [
        "**Solution:** <br>\n",
        "\n",
        "> We already know that: <br>\n",
        "Prior: $p(θ) = θ^3e^{−3θ}$ <br>\n",
        "Likelihood: $p(x|θ) = θe^{−θx}$ for x ≥ 0, θ > 0 <br>\n",
        "According to the Bayes Rule: <br>\n",
        "$p(θ|x) = \\frac{p(x|θ)p(θ)}{p(X)}\\propto p(x|θ)p(θ) \\propto θ^4e^{-(x+3)θ}$ "
      ]
    },
    {
      "cell_type": "markdown",
      "metadata": {
        "id": "SMtrVelfwFh6",
        "colab_type": "text"
      },
      "source": [
        "\n",
        "\n",
        "4. Is the exponential prior conjugate to the exponential likelihood?\n",
        "\n"
      ]
    },
    {
      "cell_type": "markdown",
      "metadata": {
        "id": "s8ZmocCpwOzt",
        "colab_type": "text"
      },
      "source": [
        "**Solution:** <br>"
      ]
    },
    {
      "cell_type": "markdown",
      "metadata": {
        "id": "SRo6hhuQwPl-",
        "colab_type": "text"
      },
      "source": [
        "\n",
        "\n",
        "> Yes, according to question 3, we can find that posterior is also exponential.\n",
        "\n"
      ]
    },
    {
      "cell_type": "markdown",
      "metadata": {
        "id": "HpfTkP6aLFW_",
        "colab_type": "text"
      },
      "source": [
        "### Problem 3"
      ]
    },
    {
      "cell_type": "markdown",
      "metadata": {
        "id": "IrvySKeoLKFf",
        "colab_type": "text"
      },
      "source": [
        "The following labeled data is given: <br>\n",
        "x={10.9, 12.4, 13.5, 14.6, 14.8, 15.6, 16.2, 17.5, 18.3, 18.6} <br>\n",
        "y={24.8, 30.0, 31.0, 29.3, 35.9, 36.9, 42.5, 37.9, 38.9, 40.5}.<br>\n",
        "Write python code to perform linear and ridge regression. Show R-squared error and adjusted R-squared error and explain results. "
      ]
    },
    {
      "cell_type": "markdown",
      "metadata": {
        "id": "ZvxrHYW_xC_H",
        "colab_type": "text"
      },
      "source": [
        "**Solution:** <br>"
      ]
    },
    {
      "cell_type": "markdown",
      "metadata": {
        "id": "NdNby1ue1hpf",
        "colab_type": "text"
      },
      "source": [
        "\n",
        "\n",
        "1.   Linear Regression\n",
        "\n"
      ]
    },
    {
      "cell_type": "code",
      "metadata": {
        "id": "KQf6yjY91oqo",
        "colab_type": "code",
        "outputId": "0a040e40-b74f-49c7-87f0-ea428bc534ba",
        "colab": {
          "base_uri": "https://localhost:8080/",
          "height": 488
        }
      },
      "source": [
        "# Training set\n",
        "x_train = np.array([10.9, 12.4, 13.5, 14.6, 14.8, 15.6, 16.2]).reshape(-1, 1)\n",
        "y_train = np.array([24.8, 30.0, 31.0, 29.3, 35.9, 36.9, 42.5]).reshape(-1, 1)\n",
        "\n",
        "# Test set\n",
        "x_test = np.array([17.5, 18.3, 18.6]).reshape(-1, 1)\n",
        "y_test = np.array([37.9, 38.9, 40.5]).reshape(-1, 1)\n",
        "\n",
        "# Model initialization\n",
        "regression_model = LinearRegression()\n",
        "\n",
        "# Fit the data(train the model)\n",
        "regression_model.fit(x_train, y_train)\n",
        "\n",
        "# Predict\n",
        "y_predicted = regression_model.predict(x_train)\n",
        "\n",
        "# R-squared error and adjusted R-squared error on training set\n",
        "rmse = mean_squared_error(y_train, y_predicted)\n",
        "r2 = r2_score(y_train, y_predicted)\n",
        "\n",
        "# data points\n",
        "plt.scatter(x_train, y_train, s=10)\n",
        "plt.xlabel('x_train')\n",
        "plt.ylabel('y_train')\n",
        "\n",
        "# predicted values\n",
        "plt.plot(x_train, y_predicted, color='r')\n",
        "plt.show()\n",
        "\n",
        "# printing values\n",
        "print('Slope:{:.2f}'.format(regression_model.coef_[0,0]))\n",
        "print('Intercept:{:.2f}'.format(regression_model.intercept_[0]))\n",
        "print(\"\\n\")\n",
        "print(\"Error on training set:\")\n",
        "print('R-squared error on training set: {:.2f}'.format(rmse))\n",
        "print('Adjusted R-squared error on training set: {:.2f}'.format(r2))\n",
        "\n",
        "# Model evaluation using test set\n",
        "y_predicted = regression_model.predict(x_test)\n",
        "\n",
        "# R-squared error and adjusted R-squared error on training set\n",
        "rmse = mean_squared_error(y_test, y_predicted)\n",
        "r2 = r2_score(y_test, y_predicted)\n",
        "\n",
        "# printing values\n",
        "print(\"\\n\")\n",
        "print(\"Error on test set:\")\n",
        "print('R-squared error on test set: {:.2f}'.format(rmse))\n",
        "print('Adjusted R-squared error on test set: {:.2f}'.format(r2))"
      ],
      "execution_count": 0,
      "outputs": [
        {
          "output_type": "display_data",
          "data": {
            "image/png": "[encoded data removed]",
            "text/plain": [
              "<Figure size 432x288 with 1 Axes>"
            ]
          },
          "metadata": {
            "tags": []
          }
        },
        {
          "output_type": "stream",
          "text": [
            "Slope:2.81\n",
            "Intercept:-6.40\n",
            "\n",
            "\n",
            "Error on training set:\n",
            "R-squared error on training set: 6.23\n",
            "Adjusted R-squared error on training set: 0.79\n",
            "\n",
            "\n",
            "Error on test set:\n",
            "R-squared error on test set: 29.64\n",
            "Adjusted R-squared error on test set: -24.85\n"
          ],
          "name": "stdout"
        }
      ]
    },
    {
      "cell_type": "markdown",
      "metadata": {
        "id": "EKwRfEjt3V2k",
        "colab_type": "text"
      },
      "source": [
        "2.   Ridge Regression"
      ]
    },
    {
      "cell_type": "code",
      "metadata": {
        "id": "2ui7MaQB3Wb1",
        "colab_type": "code",
        "outputId": "f9f71e0e-f57f-4dd6-90ae-776299005bf8",
        "colab": {
          "base_uri": "https://localhost:8080/",
          "height": 488
        }
      },
      "source": [
        "# Training set\n",
        "x_train = np.array([10.9, 12.4, 13.5, 14.6, 14.8, 15.6, 16.2]).reshape(-1, 1)\n",
        "y_train = np.array([24.8, 30.0, 31.0, 29.3, 35.9, 36.9, 42.5]).reshape(-1, 1)\n",
        "\n",
        "# Test set\n",
        "x_test = np.array([17.5, 18.3, 18.6]).reshape(-1, 1)\n",
        "y_test = np.array([37.9, 38.9, 40.5]).reshape(-1, 1)\n",
        "\n",
        "# Model initialization\n",
        "regression_model = Ridge()\n",
        "\n",
        "# Fit the data(train the model)\n",
        "regression_model.fit(x_train, y_train)\n",
        "\n",
        "# Predict\n",
        "y_predicted = regression_model.predict(x_train)\n",
        "\n",
        "# R-squared error and adjusted R-squared error on training set\n",
        "rmse = mean_squared_error(y_train, y_predicted)\n",
        "r2 = r2_score(y_train, y_predicted)\n",
        "\n",
        "# data points\n",
        "plt.scatter(x_train, y_train, s=10)\n",
        "plt.xlabel('x_train')\n",
        "plt.ylabel('y_train')\n",
        "\n",
        "# predicted values\n",
        "plt.plot(x_train, y_predicted, color='r')\n",
        "plt.show()\n",
        "\n",
        "# printing values\n",
        "print('Slope:{:.2f}'.format(regression_model.coef_[0,0]))\n",
        "print('Intercept:{:.2f}'.format(regression_model.intercept_[0]))\n",
        "print(\"\\n\")\n",
        "print(\"Error on training set:\")\n",
        "print('R-squared error on training set: {:.2f}'.format(rmse))\n",
        "print('Adjusted R-squared error on training set: {:.2f}'.format(r2))\n",
        "\n",
        "# Model evaluation using test set\n",
        "y_predicted = regression_model.predict(x_test)\n",
        "\n",
        "# R-squared error and adjusted R-squared error on training set\n",
        "rmse = mean_squared_error(y_test, y_predicted)\n",
        "r2 = r2_score(y_test, y_predicted)\n",
        "\n",
        "# printing values\n",
        "print(\"\\n\")\n",
        "print(\"Error on test set:\")\n",
        "print('R-squared error on test set: {:.2f}'.format(rmse))\n",
        "print('Adjusted R-squared error on test set: {:.2f}'.format(r2))"
      ],
      "execution_count": 0,
      "outputs": [
        {
          "output_type": "display_data",
          "data": {
            "image/png": "[encoded data removed]",
            "text/plain": [
              "<Figure size 432x288 with 1 Axes>"
            ]
          },
          "metadata": {
            "tags": []
          }
        },
        {
          "output_type": "stream",
          "text": [
            "Slope:2.68\n",
            "Intercept:-4.59\n",
            "\n",
            "\n",
            "Error on training set:\n",
            "R-squared error on training set: 6.28\n",
            "Adjusted R-squared error on training set: 0.79\n",
            "\n",
            "\n",
            "Error on test set:\n",
            "R-squared error on test set: 24.12\n",
            "Adjusted R-squared error on test set: -20.04\n"
          ],
          "name": "stdout"
        }
      ]
    },
    {
      "cell_type": "markdown",
      "metadata": {
        "id": "Oj327Kjij9IE",
        "colab_type": "text"
      },
      "source": [
        "As we can see, compare to unregularized model perform better on fitting traing set, but ridge model perform better on fitting test set. This is because ridge model add a regularized part which can solve overfitting problem of regression."
      ]
    },
    {
      "cell_type": "markdown",
      "metadata": {
        "id": "_53eT7AELTZ6",
        "colab_type": "text"
      },
      "source": [
        "### Problem 4"
      ]
    },
    {
      "cell_type": "markdown",
      "metadata": {
        "id": "7jOq9HZELVfs",
        "colab_type": "text"
      },
      "source": [
        "Start with the code from Fig 6.11 and 6.12 from the text book. For the parameters presented in Fig 6.12b compute standard error (see section 6.3.1.3) and predict probability of next data point to be equal one."
      ]
    },
    {
      "cell_type": "markdown",
      "metadata": {
        "id": "jGw_Nu_g3LOu",
        "colab_type": "text"
      },
      "source": [
        "**Solution:** <br>"
      ]
    },
    {
      "cell_type": "markdown",
      "metadata": {
        "id": "yFM32Y3t53hL",
        "colab_type": "text"
      },
      "source": [
        "Figure 6.11: Updating a uniform Beta(1,1) prior with a Bernoulli likelihood with sufficient statistics"
      ]
    },
    {
      "cell_type": "code",
      "metadata": {
        "id": "zJkLXLrz58Zs",
        "colab_type": "code",
        "colab": {}
      },
      "source": [
        "# Points where we evaluate the pdf\n",
        "x = np.linspace(0.001, .999, 100)\n",
        "\n",
        "# Given an alpha parameter, this returns a pdf function\n",
        "def MakeBeta(alpha):\n",
        "    def Beta(y):\n",
        "        return dirichlet.pdf([y, 1 - y], alpha)\n",
        "    Beta = np.vectorize(Beta)\n",
        "    return Beta\n",
        "\n",
        "# Makes strings for the legend:\n",
        "def MakeLabel(Data,which):\n",
        "    alpha = Data[which]\n",
        "    lab = which + \" Be(\" + str(alpha[0]) + \", \" + str(alpha[1]) + \")\"\n",
        "    return lab\n",
        "\n",
        "# Forms graph give the parameters of the prior, likelihood and posterior:\n",
        "def MakeGraph(Data,SaveName):\n",
        "    prior = MakeBeta(Data['prior'])(x)\n",
        "    likelihood = MakeBeta(Data['lik'])(x)\n",
        "    posterior = MakeBeta(Data['post'])(x)\n",
        "\n",
        "    fig, ax = plt.subplots()\n",
        "    ax.plot(x, prior, 'r', label=MakeLabel(Data, \"prior\"), linewidth=2.0)\n",
        "    ax.plot(x, likelihood, 'k--', label=MakeLabel(Data, \"lik\"), linewidth=2.0)\n",
        "    ax.plot(x, posterior, 'b--', label=MakeLabel(Data, \"post\"), linewidth=2.0)\n",
        "    ax.legend(loc='upper left', shadow=True)\n",
        "    plt.show()"
      ],
      "execution_count": 0,
      "outputs": []
    },
    {
      "cell_type": "markdown",
      "metadata": {
        "id": "0hxiOQpo3_VD",
        "colab_type": "text"
      },
      "source": [
        "(a): N1 = 4, N0 = 1"
      ]
    },
    {
      "cell_type": "code",
      "metadata": {
        "id": "-aDhT7fXLb2P",
        "colab_type": "code",
        "outputId": "b3251356-5d69-429b-bc4f-8b804f4beb7f",
        "colab": {
          "base_uri": "https://localhost:8080/",
          "height": 269
        }
      },
      "source": [
        "# N1 = 4, N0 = 1\n",
        "Data1 = {'prior': [1, 1],\n",
        "         'lik': [5, 2],\n",
        "         'post': [5, 2]}\n",
        "\n",
        "MakeGraph(Data1, \"betaPost1\")\n",
        "plt.show()"
      ],
      "execution_count": 0,
      "outputs": [
        {
          "output_type": "display_data",
          "data": {
            "image/png": "[encoded data removed]",
            "text/plain": [
              "<Figure size 432x288 with 1 Axes>"
            ]
          },
          "metadata": {
            "tags": []
          }
        }
      ]
    },
    {
      "cell_type": "markdown",
      "metadata": {
        "id": "kVlS8uE85JbN",
        "colab_type": "text"
      },
      "source": [
        "(b): N1 = 40, N0 = 10"
      ]
    },
    {
      "cell_type": "code",
      "metadata": {
        "id": "_TbPOm785LEW",
        "colab_type": "code",
        "outputId": "0b0c43b5-8aa3-41b3-b23f-b4a0817b38fb",
        "colab": {
          "base_uri": "https://localhost:8080/",
          "height": 269
        }
      },
      "source": [
        "# N1 = 40, N0 = 10\n",
        "Data2 = {'prior': [1, 1],\n",
        "         'lik': [41, 11],\n",
        "         'post': [41, 11]}\n",
        "\n",
        "MakeGraph(Data2, \"betaPost2\")\n",
        "plt.show()"
      ],
      "execution_count": 0,
      "outputs": [
        {
          "output_type": "display_data",
          "data": {
            "image/png": "[encoded data removed]",
            "text/plain": [
              "<Figure size 432x288 with 1 Axes>"
            ]
          },
          "metadata": {
            "tags": []
          }
        }
      ]
    },
    {
      "cell_type": "markdown",
      "metadata": {
        "id": "4Yrm0LAH6MYu",
        "colab_type": "text"
      },
      "source": [
        "Note: Since we are using a uniform prior, the likelihood and posterior have exactly the same shape (so the black dotted line, representing the likelihood, is not visible)."
      ]
    },
    {
      "cell_type": "markdown",
      "metadata": {
        "id": "kXeDmSeq6r92",
        "colab_type": "text"
      },
      "source": [
        "Figure 6.12:  Updating a Beta(2,2) prior with a Bernoulli likelihood with sufficient statistics."
      ]
    },
    {
      "cell_type": "markdown",
      "metadata": {
        "id": "k2dOM7kV6v2O",
        "colab_type": "text"
      },
      "source": [
        "(a): N1 = 4, N0 = 1"
      ]
    },
    {
      "cell_type": "code",
      "metadata": {
        "id": "32XDjqdO6vOs",
        "colab_type": "code",
        "outputId": "6cf3bbdd-57e8-4416-bc77-d51bca7ffd0c",
        "colab": {
          "base_uri": "https://localhost:8080/",
          "height": 269
        }
      },
      "source": [
        "# N1 = 4, N0 = 1\n",
        "Data3 = {'prior': [2, 2],\n",
        "         'lik': [5, 2],\n",
        "         'post': [6, 3]}\n",
        "\n",
        "MakeGraph(Data3, \"betaPost3\")\n",
        "\n",
        "plt.show()"
      ],
      "execution_count": 0,
      "outputs": [
        {
          "output_type": "display_data",
          "data": {
            "image/png": "[encoded data removed]",
            "text/plain": [
              "<Figure size 432x288 with 1 Axes>"
            ]
          },
          "metadata": {
            "tags": []
          }
        }
      ]
    },
    {
      "cell_type": "markdown",
      "metadata": {
        "id": "PlwMVamS7IkP",
        "colab_type": "text"
      },
      "source": [
        "(b): N1 = 40, N0 = 10"
      ]
    },
    {
      "cell_type": "code",
      "metadata": {
        "id": "7IE8YKBF7Qyh",
        "colab_type": "code",
        "outputId": "83938e7b-37fc-49ca-d5a7-51a8ca760713",
        "colab": {
          "base_uri": "https://localhost:8080/",
          "height": 269
        }
      },
      "source": [
        "# N1 = 40, N0 = 10\n",
        "Data4 = {'prior': [2, 2],\n",
        "         'lik': [41, 11],\n",
        "         'post': [42, 12]}\n",
        "\n",
        "MakeGraph(Data4, \"betaPost4\")\n",
        "\n",
        "plt.show()"
      ],
      "execution_count": 0,
      "outputs": [
        {
          "output_type": "display_data",
          "data": {
            "image/png": "[encoded data removed]",
            "text/plain": [
              "<Figure size 432x288 with 1 Axes>"
            ]
          },
          "metadata": {
            "tags": []
          }
        }
      ]
    },
    {
      "cell_type": "markdown",
      "metadata": {
        "id": "ySG7c2VP8QPo",
        "colab_type": "text"
      },
      "source": [
        "Standard error of parameters presented in Fig 6.12b, which is just the posterior standard deviaton:"
      ]
    },
    {
      "cell_type": "code",
      "metadata": {
        "id": "JvyiAXEK8Le1",
        "colab_type": "code",
        "outputId": "1cee4730-f265-415a-978a-92844ebf6ac8",
        "colab": {
          "base_uri": "https://localhost:8080/",
          "height": 34
        }
      },
      "source": [
        "# Compute posterior\n",
        "posterior = MakeBeta(Data4['post'])(x)\n",
        "\n",
        "# Compute standard error\n",
        "SE = np.std(posterior)\n",
        "\n",
        "print(\"Standard error is: {:.2f}\".format(SE))"
      ],
      "execution_count": 0,
      "outputs": [
        {
          "output_type": "stream",
          "text": [
            "Standard error is: 2.01\n"
          ],
          "name": "stdout"
        }
      ]
    },
    {
      "cell_type": "markdown",
      "metadata": {
        "id": "kOzwVGXI96t4",
        "colab_type": "text"
      },
      "source": [
        "Predict probability of next data point to be equal one: <br>\n",
        "$ p(x_{N+1} = 1|X, α, β) = \\int_{0}^{1} p(x_{N+1} = 1|θ) p(θ|X, α, β)dθ = E[θ|X] = \\frac{α + N_1}{α + β + N}$"
      ]
    },
    {
      "cell_type": "code",
      "metadata": {
        "id": "hFUFoSJP98ae",
        "colab_type": "code",
        "outputId": "85a284c6-af7f-4bbe-bead-8a184d2acbab",
        "colab": {
          "base_uri": "https://localhost:8080/",
          "height": 34
        }
      },
      "source": [
        "# Predict probability of next data point to be equal one\n",
        "prob = (42 + 40) / (42 + 12 + 10 + 40)\n",
        "\n",
        "print(\"Probability of next data point to be equal one is: {:.2f}\".format(prob))"
      ],
      "execution_count": 0,
      "outputs": [
        {
          "output_type": "stream",
          "text": [
            "Probability of next data point to be equal one is: 0.79\n"
          ],
          "name": "stdout"
        }
      ]
    }
  ]
}